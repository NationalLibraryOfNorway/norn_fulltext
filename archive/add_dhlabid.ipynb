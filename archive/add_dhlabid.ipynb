{
 "cells": [
  {
   "cell_type": "code",
   "execution_count": 17,
   "metadata": {},
   "outputs": [],
   "source": [
    "import pandas as pd\n",
    "import os\n",
    "import dhlab as dh"
   ]
  },
  {
   "cell_type": "code",
   "execution_count": 9,
   "metadata": {},
   "outputs": [],
   "source": [
    "p = \"/home/larsm/projects/NORN/data_processing/extract_fulltext/texts\"\n",
    "\n",
    "d = []\n",
    "d = {}\n",
    "for path, dir, file in os.walk(p):\n",
    "        d[path] = file"
   ]
  },
  {
   "cell_type": "code",
   "execution_count": 14,
   "metadata": {},
   "outputs": [],
   "source": [
    "dct = {key.split(\"/\")[-1]: value for key, value in d.items()}"
   ]
  },
  {
   "cell_type": "code",
   "execution_count": 32,
   "metadata": {},
   "outputs": [],
   "source": [
    "urns = []\n",
    "for key, value in dct.items():\n",
    "    #print(key, len(value))\n",
    "    urns.extend(value)"
   ]
  },
  {
   "cell_type": "code",
   "execution_count": 33,
   "metadata": {},
   "outputs": [],
   "source": [
    "prefix = \"URN:NBN:\"\n",
    "urns = [prefix + x.split(\".\")[0] for x in urns]"
   ]
  },
  {
   "cell_type": "code",
   "execution_count": 43,
   "metadata": {},
   "outputs": [],
   "source": [
    "c = dh.Corpus()\n",
    "c.extend_from_identifiers(urns)"
   ]
  },
  {
   "cell_type": "code",
   "execution_count": 54,
   "metadata": {},
   "outputs": [],
   "source": [
    "dhlabid_urn_dict = {x[\"urn\"] :int( x[\"dhlabid\"]) for i, x in c.frame.iterrows()}"
   ]
  },
  {
   "cell_type": "code",
   "execution_count": 65,
   "metadata": {},
   "outputs": [],
   "source": [
    "source_files = {\n",
    "    key.split(\"/\")[-1] : \n",
    "    [os.path.join(key, file) for file in value]\n",
    "    \n",
    "    for key, value in d.items()\n",
    "}"
   ]
  },
  {
   "cell_type": "code",
   "execution_count": 68,
   "metadata": {},
   "outputs": [
    {
     "name": "stdout",
     "output_type": "stream",
     "text": [
      "The history saving thread hit an unexpected error (OperationalError('database or disk is full')).History will not be written to the database.\n"
     ]
    }
   ],
   "source": [
    "dhlabid_urn_dict_suffix_only = {x.split(\":\")[-1] : y for x, y in dhlabid_urn_dict.items()}"
   ]
  },
  {
   "cell_type": "code",
   "execution_count": 74,
   "metadata": {},
   "outputs": [],
   "source": [
    "lst = []\n",
    "for key, value in source_files.items():\n",
    "    for file in value:\n",
    "        name = file.split(\"/\")[-1].split(\".\")[0]\n",
    "        dhlabid = dhlabid_urn_dict_suffix_only[name]\n",
    "        inner_dct = {\"dhlabid\": dhlabid, \"source_file\": file, \"korpus\" : key}\n",
    "        lst.append(inner_dct)\n",
    "        "
   ]
  },
  {
   "cell_type": "code",
   "execution_count": 77,
   "metadata": {},
   "outputs": [],
   "source": [
    "os.mkdir(\"texts\")"
   ]
  },
  {
   "cell_type": "code",
   "execution_count": 80,
   "metadata": {},
   "outputs": [],
   "source": [
    "korpuses = list(set([x[\"korpus\"] for x in lst]))"
   ]
  },
  {
   "cell_type": "code",
   "execution_count": 82,
   "metadata": {},
   "outputs": [],
   "source": [
    "for k in korpuses:\n",
    "    os.mkdir(\"texts/\" + k)"
   ]
  },
  {
   "cell_type": "code",
   "execution_count": 83,
   "metadata": {},
   "outputs": [],
   "source": [
    "\n",
    "\n",
    "for dct in lst:\n",
    "    \n",
    "    \n",
    "    with open(dct[\"source_file\"], \"r\") as f:\n",
    "        text = f.read()\n",
    "        \n",
    "    \n",
    "        \n",
    "    with open(f\"texts/{dct['korpus']}/{dct['dhlabid']}.txt\", \"w\") as f:\n",
    "        f.write(text)"
   ]
  }
 ],
 "metadata": {
  "kernelspec": {
   "display_name": "norn-bHVydaHb-py3.10",
   "language": "python",
   "name": "python3"
  },
  "language_info": {
   "codemirror_mode": {
    "name": "ipython",
    "version": 3
   },
   "file_extension": ".py",
   "mimetype": "text/x-python",
   "name": "python",
   "nbconvert_exporter": "python",
   "pygments_lexer": "ipython3",
   "version": "3.10.12"
  }
 },
 "nbformat": 4,
 "nbformat_minor": 2
}
